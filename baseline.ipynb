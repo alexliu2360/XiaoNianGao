{
 "cells": [
  {
   "cell_type": "code",
   "execution_count": 1,
   "metadata": {
    "collapsed": true
   },
   "outputs": [],
   "source": [
    "import pandas as pd\n",
    "import numpy as np"
   ]
  },
  {
   "cell_type": "code",
   "execution_count": 2,
   "metadata": {
    "collapsed": true
   },
   "outputs": [],
   "source": [
    "data_path = '../data/'\n",
    "listing_info_fn = 'listing_info.csv'\n",
    "test_fn = 'test.csv'\n",
    "train_fn = 'train.csv'\n",
    "user_behavior_logs_fn = 'user_behavior_logs.csv'\n",
    "user_info_fn = 'user_info.csv'\n",
    "user_repay_logs_fn  = 'user_repay_logs.csv'\n",
    "user_taglist_fn = 'user_taglist.csv'"
   ]
  },
  {
   "cell_type": "code",
   "execution_count": 61,
   "metadata": {
    "collapsed": true
   },
   "outputs": [],
   "source": [
    "listing_info_data = pd.read_csv(data_path+listing_info_fn)"
   ]
  },
  {
   "cell_type": "code",
   "execution_count": 17,
   "metadata": {
    "collapsed": true
   },
   "outputs": [],
   "source": [
    "# listing_info_data = pd.read_csv(data_path+listing_info_fn)\n",
    "test_data = pd.read_csv(data_path+test_fn)\n",
    "train_data = pd.read_csv(data_path+train_fn)\n",
    "# user_behavior_logs_data = pd.read_csv(data_path+user_behavior_logs_fn)\n",
    "user_info_data = pd.read_csv(data_path+user_info_fn)\n",
    "# user_repay_logs_data = pd.read_csv(data_path+user_repay_logs_fn)\n",
    "user_taglist_data = pd.read_csv(data_path+user_taglist_fn)"
   ]
  },
  {
   "cell_type": "code",
   "execution_count": 63,
   "metadata": {},
   "outputs": [
    {
     "name": "stdout",
     "output_type": "stream",
     "text": [
      "(5484891, 6)\n",
      "(130000, 5)\n",
      "(1000000, 7)\n",
      "(954209, 8)\n",
      "(615160, 3)\n"
     ]
    }
   ],
   "source": [
    "print(listing_info_data.shape)\n",
    "print(test_data.shape)\n",
    "print(train_data.shape)\n",
    "print(user_info_data.shape)\n",
    "print(user_taglist_data.shape)"
   ]
  },
  {
   "cell_type": "code",
   "execution_count": 62,
   "metadata": {},
   "outputs": [
    {
     "data": {
      "text/html": [
       "<div>\n",
       "<style scoped>\n",
       "    .dataframe tbody tr th:only-of-type {\n",
       "        vertical-align: middle;\n",
       "    }\n",
       "\n",
       "    .dataframe tbody tr th {\n",
       "        vertical-align: top;\n",
       "    }\n",
       "\n",
       "    .dataframe thead th {\n",
       "        text-align: right;\n",
       "    }\n",
       "</style>\n",
       "<table border=\"1\" class=\"dataframe\">\n",
       "  <thead>\n",
       "    <tr style=\"text-align: right;\">\n",
       "      <th></th>\n",
       "      <th>user_id</th>\n",
       "      <th>listing_id</th>\n",
       "      <th>auditing_date</th>\n",
       "      <th>term</th>\n",
       "      <th>rate</th>\n",
       "      <th>principal</th>\n",
       "    </tr>\n",
       "  </thead>\n",
       "  <tbody>\n",
       "    <tr>\n",
       "      <th>0</th>\n",
       "      <td>316610</td>\n",
       "      <td>1556649</td>\n",
       "      <td>2017-11-26</td>\n",
       "      <td>9</td>\n",
       "      <td>7.6</td>\n",
       "      <td>4800</td>\n",
       "    </tr>\n",
       "    <tr>\n",
       "      <th>1</th>\n",
       "      <td>62002</td>\n",
       "      <td>1556633</td>\n",
       "      <td>2017-11-26</td>\n",
       "      <td>6</td>\n",
       "      <td>7.6</td>\n",
       "      <td>4000</td>\n",
       "    </tr>\n",
       "    <tr>\n",
       "      <th>2</th>\n",
       "      <td>192135</td>\n",
       "      <td>1556629</td>\n",
       "      <td>2017-11-26</td>\n",
       "      <td>12</td>\n",
       "      <td>8.0</td>\n",
       "      <td>8660</td>\n",
       "    </tr>\n",
       "    <tr>\n",
       "      <th>3</th>\n",
       "      <td>487382</td>\n",
       "      <td>1556628</td>\n",
       "      <td>2017-11-26</td>\n",
       "      <td>9</td>\n",
       "      <td>7.6</td>\n",
       "      <td>4780</td>\n",
       "    </tr>\n",
       "    <tr>\n",
       "      <th>4</th>\n",
       "      <td>235186</td>\n",
       "      <td>1556627</td>\n",
       "      <td>2017-11-26</td>\n",
       "      <td>9</td>\n",
       "      <td>7.6</td>\n",
       "      <td>1480</td>\n",
       "    </tr>\n",
       "  </tbody>\n",
       "</table>\n",
       "</div>"
      ],
      "text/plain": [
       "   user_id  listing_id auditing_date  term  rate  principal\n",
       "0   316610     1556649    2017-11-26     9   7.6       4800\n",
       "1    62002     1556633    2017-11-26     6   7.6       4000\n",
       "2   192135     1556629    2017-11-26    12   8.0       8660\n",
       "3   487382     1556628    2017-11-26     9   7.6       4780\n",
       "4   235186     1556627    2017-11-26     9   7.6       1480"
      ]
     },
     "execution_count": 62,
     "metadata": {},
     "output_type": "execute_result"
    }
   ],
   "source": [
    "listing_info_data.head()"
   ]
  },
  {
   "cell_type": "code",
   "execution_count": 6,
   "metadata": {},
   "outputs": [
    {
     "data": {
      "text/html": [
       "<div>\n",
       "<style scoped>\n",
       "    .dataframe tbody tr th:only-of-type {\n",
       "        vertical-align: middle;\n",
       "    }\n",
       "\n",
       "    .dataframe tbody tr th {\n",
       "        vertical-align: top;\n",
       "    }\n",
       "\n",
       "    .dataframe thead th {\n",
       "        text-align: right;\n",
       "    }\n",
       "</style>\n",
       "<table border=\"1\" class=\"dataframe\">\n",
       "  <thead>\n",
       "    <tr style=\"text-align: right;\">\n",
       "      <th></th>\n",
       "      <th>user_id</th>\n",
       "      <th>listing_id</th>\n",
       "      <th>auditing_date</th>\n",
       "      <th>due_date</th>\n",
       "      <th>due_amt</th>\n",
       "      <th>repay_date</th>\n",
       "      <th>repay_amt</th>\n",
       "    </tr>\n",
       "  </thead>\n",
       "  <tbody>\n",
       "    <tr>\n",
       "      <th>0</th>\n",
       "      <td>748147</td>\n",
       "      <td>3163926</td>\n",
       "      <td>2018-04-25</td>\n",
       "      <td>2018-05-25</td>\n",
       "      <td>72.1167</td>\n",
       "      <td>2018-05-25</td>\n",
       "      <td>72.1167</td>\n",
       "    </tr>\n",
       "    <tr>\n",
       "      <th>1</th>\n",
       "      <td>672952</td>\n",
       "      <td>3698760</td>\n",
       "      <td>2018-06-09</td>\n",
       "      <td>2018-07-09</td>\n",
       "      <td>258.7045</td>\n",
       "      <td>2018-07-08</td>\n",
       "      <td>258.7045</td>\n",
       "    </tr>\n",
       "    <tr>\n",
       "      <th>2</th>\n",
       "      <td>404196</td>\n",
       "      <td>2355665</td>\n",
       "      <td>2018-02-18</td>\n",
       "      <td>2018-03-18</td>\n",
       "      <td>307.9270</td>\n",
       "      <td>\\N</td>\n",
       "      <td>\\N</td>\n",
       "    </tr>\n",
       "    <tr>\n",
       "      <th>3</th>\n",
       "      <td>342769</td>\n",
       "      <td>1994522</td>\n",
       "      <td>2018-01-13</td>\n",
       "      <td>2018-02-13</td>\n",
       "      <td>252.9809</td>\n",
       "      <td>2018-02-13</td>\n",
       "      <td>252.9809</td>\n",
       "    </tr>\n",
       "    <tr>\n",
       "      <th>4</th>\n",
       "      <td>828139</td>\n",
       "      <td>3602352</td>\n",
       "      <td>2018-06-01</td>\n",
       "      <td>2018-07-01</td>\n",
       "      <td>107.6503</td>\n",
       "      <td>2018-06-25</td>\n",
       "      <td>107.6503</td>\n",
       "    </tr>\n",
       "  </tbody>\n",
       "</table>\n",
       "</div>"
      ],
      "text/plain": [
       "   user_id  listing_id auditing_date    due_date   due_amt  repay_date  \\\n",
       "0   748147     3163926    2018-04-25  2018-05-25   72.1167  2018-05-25   \n",
       "1   672952     3698760    2018-06-09  2018-07-09  258.7045  2018-07-08   \n",
       "2   404196     2355665    2018-02-18  2018-03-18  307.9270          \\N   \n",
       "3   342769     1994522    2018-01-13  2018-02-13  252.9809  2018-02-13   \n",
       "4   828139     3602352    2018-06-01  2018-07-01  107.6503  2018-06-25   \n",
       "\n",
       "  repay_amt  \n",
       "0   72.1167  \n",
       "1  258.7045  \n",
       "2        \\N  \n",
       "3  252.9809  \n",
       "4  107.6503  "
      ]
     },
     "execution_count": 6,
     "metadata": {},
     "output_type": "execute_result"
    }
   ],
   "source": [
    "train_data.head()"
   ]
  },
  {
   "cell_type": "code",
   "execution_count": 7,
   "metadata": {},
   "outputs": [
    {
     "data": {
      "text/html": [
       "<div>\n",
       "<style scoped>\n",
       "    .dataframe tbody tr th:only-of-type {\n",
       "        vertical-align: middle;\n",
       "    }\n",
       "\n",
       "    .dataframe tbody tr th {\n",
       "        vertical-align: top;\n",
       "    }\n",
       "\n",
       "    .dataframe thead th {\n",
       "        text-align: right;\n",
       "    }\n",
       "</style>\n",
       "<table border=\"1\" class=\"dataframe\">\n",
       "  <thead>\n",
       "    <tr style=\"text-align: right;\">\n",
       "      <th></th>\n",
       "      <th>user_id</th>\n",
       "      <th>listing_id</th>\n",
       "      <th>auditing_date</th>\n",
       "      <th>due_date</th>\n",
       "      <th>due_amt</th>\n",
       "    </tr>\n",
       "  </thead>\n",
       "  <tbody>\n",
       "    <tr>\n",
       "      <th>0</th>\n",
       "      <td>498765</td>\n",
       "      <td>5431438</td>\n",
       "      <td>2019-03-12</td>\n",
       "      <td>2019-04-12</td>\n",
       "      <td>138.5903</td>\n",
       "    </tr>\n",
       "    <tr>\n",
       "      <th>1</th>\n",
       "      <td>34524</td>\n",
       "      <td>5443211</td>\n",
       "      <td>2019-03-15</td>\n",
       "      <td>2019-04-15</td>\n",
       "      <td>208.0805</td>\n",
       "    </tr>\n",
       "    <tr>\n",
       "      <th>2</th>\n",
       "      <td>821741</td>\n",
       "      <td>5461707</td>\n",
       "      <td>2019-03-22</td>\n",
       "      <td>2019-04-22</td>\n",
       "      <td>421.2097</td>\n",
       "    </tr>\n",
       "    <tr>\n",
       "      <th>3</th>\n",
       "      <td>263534</td>\n",
       "      <td>5472320</td>\n",
       "      <td>2019-03-26</td>\n",
       "      <td>2019-04-26</td>\n",
       "      <td>212.6537</td>\n",
       "    </tr>\n",
       "    <tr>\n",
       "      <th>4</th>\n",
       "      <td>238853</td>\n",
       "      <td>5459750</td>\n",
       "      <td>2019-03-21</td>\n",
       "      <td>2019-04-21</td>\n",
       "      <td>817.4593</td>\n",
       "    </tr>\n",
       "  </tbody>\n",
       "</table>\n",
       "</div>"
      ],
      "text/plain": [
       "   user_id  listing_id auditing_date    due_date   due_amt\n",
       "0   498765     5431438    2019-03-12  2019-04-12  138.5903\n",
       "1    34524     5443211    2019-03-15  2019-04-15  208.0805\n",
       "2   821741     5461707    2019-03-22  2019-04-22  421.2097\n",
       "3   263534     5472320    2019-03-26  2019-04-26  212.6537\n",
       "4   238853     5459750    2019-03-21  2019-04-21  817.4593"
      ]
     },
     "execution_count": 7,
     "metadata": {},
     "output_type": "execute_result"
    }
   ],
   "source": [
    "test_data.head()"
   ]
  },
  {
   "cell_type": "code",
   "execution_count": 10,
   "metadata": {
    "collapsed": true
   },
   "outputs": [
    {
     "data": {
      "text/html": [
       "<div>\n",
       "<style scoped>\n",
       "    .dataframe tbody tr th:only-of-type {\n",
       "        vertical-align: middle;\n",
       "    }\n",
       "\n",
       "    .dataframe tbody tr th {\n",
       "        vertical-align: top;\n",
       "    }\n",
       "\n",
       "    .dataframe thead th {\n",
       "        text-align: right;\n",
       "    }\n",
       "</style>\n",
       "<table border=\"1\" class=\"dataframe\">\n",
       "  <thead>\n",
       "    <tr style=\"text-align: right;\">\n",
       "      <th></th>\n",
       "      <th>user_id</th>\n",
       "      <th>reg_mon</th>\n",
       "      <th>gender</th>\n",
       "      <th>age</th>\n",
       "      <th>cell_province</th>\n",
       "      <th>id_province</th>\n",
       "      <th>id_city</th>\n",
       "      <th>insertdate</th>\n",
       "    </tr>\n",
       "  </thead>\n",
       "  <tbody>\n",
       "    <tr>\n",
       "      <th>0</th>\n",
       "      <td>483833</td>\n",
       "      <td>2017-04</td>\n",
       "      <td>男</td>\n",
       "      <td>19</td>\n",
       "      <td>c29</td>\n",
       "      <td>c26</td>\n",
       "      <td>c26241</td>\n",
       "      <td>2018-12-11</td>\n",
       "    </tr>\n",
       "    <tr>\n",
       "      <th>1</th>\n",
       "      <td>156772</td>\n",
       "      <td>2016-05</td>\n",
       "      <td>男</td>\n",
       "      <td>31</td>\n",
       "      <td>c11</td>\n",
       "      <td>c11</td>\n",
       "      <td>c11159</td>\n",
       "      <td>2018-02-13</td>\n",
       "    </tr>\n",
       "    <tr>\n",
       "      <th>2</th>\n",
       "      <td>173388</td>\n",
       "      <td>2016-05</td>\n",
       "      <td>男</td>\n",
       "      <td>34</td>\n",
       "      <td>c02</td>\n",
       "      <td>c02</td>\n",
       "      <td>c02182</td>\n",
       "      <td>2018-08-21</td>\n",
       "    </tr>\n",
       "    <tr>\n",
       "      <th>3</th>\n",
       "      <td>199107</td>\n",
       "      <td>2016-07</td>\n",
       "      <td>女</td>\n",
       "      <td>25</td>\n",
       "      <td>c09</td>\n",
       "      <td>c09</td>\n",
       "      <td>c09046</td>\n",
       "      <td>2018-06-05</td>\n",
       "    </tr>\n",
       "    <tr>\n",
       "      <th>4</th>\n",
       "      <td>122560</td>\n",
       "      <td>2016-03</td>\n",
       "      <td>男</td>\n",
       "      <td>23</td>\n",
       "      <td>c05</td>\n",
       "      <td>c05</td>\n",
       "      <td>c05193</td>\n",
       "      <td>2018-04-02</td>\n",
       "    </tr>\n",
       "  </tbody>\n",
       "</table>\n",
       "</div>"
      ],
      "text/plain": [
       "   user_id  reg_mon gender  age cell_province id_province id_city  insertdate\n",
       "0   483833  2017-04      男   19           c29         c26  c26241  2018-12-11\n",
       "1   156772  2016-05      男   31           c11         c11  c11159  2018-02-13\n",
       "2   173388  2016-05      男   34           c02         c02  c02182  2018-08-21\n",
       "3   199107  2016-07      女   25           c09         c09  c09046  2018-06-05\n",
       "4   122560  2016-03      男   23           c05         c05  c05193  2018-04-02"
      ]
     },
     "execution_count": 10,
     "metadata": {},
     "output_type": "execute_result"
    }
   ],
   "source": [
    "user_info_data.head()"
   ]
  },
  {
   "cell_type": "code",
   "execution_count": 11,
   "metadata": {},
   "outputs": [
    {
     "data": {
      "text/html": [
       "<div>\n",
       "<style scoped>\n",
       "    .dataframe tbody tr th:only-of-type {\n",
       "        vertical-align: middle;\n",
       "    }\n",
       "\n",
       "    .dataframe tbody tr th {\n",
       "        vertical-align: top;\n",
       "    }\n",
       "\n",
       "    .dataframe thead th {\n",
       "        text-align: right;\n",
       "    }\n",
       "</style>\n",
       "<table border=\"1\" class=\"dataframe\">\n",
       "  <thead>\n",
       "    <tr style=\"text-align: right;\">\n",
       "      <th></th>\n",
       "      <th>user_id</th>\n",
       "      <th>taglist</th>\n",
       "      <th>insertdate</th>\n",
       "    </tr>\n",
       "  </thead>\n",
       "  <tbody>\n",
       "    <tr>\n",
       "      <th>0</th>\n",
       "      <td>113401</td>\n",
       "      <td>4707|473|3498|4759|1654|298|2869|1164|212|1885...</td>\n",
       "      <td>2018-10-03</td>\n",
       "    </tr>\n",
       "    <tr>\n",
       "      <th>1</th>\n",
       "      <td>378358</td>\n",
       "      <td>751|2207|1100|2099|1832|1911|5347|2254|171|360...</td>\n",
       "      <td>2018-11-30</td>\n",
       "    </tr>\n",
       "    <tr>\n",
       "      <th>2</th>\n",
       "      <td>434838</td>\n",
       "      <td>877|3795|5628|70|2684|691|719|4228|631|1541|12...</td>\n",
       "      <td>2018-03-25</td>\n",
       "    </tr>\n",
       "    <tr>\n",
       "      <th>3</th>\n",
       "      <td>577061</td>\n",
       "      <td>2431|3242|340|1823|4020|4357|164|620|2168|1192...</td>\n",
       "      <td>2018-05-25</td>\n",
       "    </tr>\n",
       "    <tr>\n",
       "      <th>4</th>\n",
       "      <td>566753</td>\n",
       "      <td>3980|3125|1819|1333|1177|3972|621|5800|3632|16...</td>\n",
       "      <td>2018-12-02</td>\n",
       "    </tr>\n",
       "  </tbody>\n",
       "</table>\n",
       "</div>"
      ],
      "text/plain": [
       "   user_id                                            taglist  insertdate\n",
       "0   113401  4707|473|3498|4759|1654|298|2869|1164|212|1885...  2018-10-03\n",
       "1   378358  751|2207|1100|2099|1832|1911|5347|2254|171|360...  2018-11-30\n",
       "2   434838  877|3795|5628|70|2684|691|719|4228|631|1541|12...  2018-03-25\n",
       "3   577061  2431|3242|340|1823|4020|4357|164|620|2168|1192...  2018-05-25\n",
       "4   566753  3980|3125|1819|1333|1177|3972|621|5800|3632|16...  2018-12-02"
      ]
     },
     "execution_count": 11,
     "metadata": {},
     "output_type": "execute_result"
    }
   ],
   "source": [
    "user_taglist_data.head()"
   ]
  },
  {
   "cell_type": "markdown",
   "metadata": {},
   "source": [
    "### 对user_id进行筛查"
   ]
  },
  {
   "cell_type": "code",
   "execution_count": 64,
   "metadata": {},
   "outputs": [
    {
     "name": "stdout",
     "output_type": "stream",
     "text": [
      "928195\n",
      "823732\n",
      "928195\n",
      "535380\n"
     ]
    }
   ],
   "source": [
    "print(len(listing_info_data['user_id'].value_counts()))\n",
    "print(len(train_data['user_id'].value_counts()))\n",
    "# print(len(test_data['user_id'].value_counts()))\n",
    "print(len(user_info_data['user_id'].value_counts()))\n",
    "print(len(user_taglist_data['user_id'].value_counts()))"
   ]
  },
  {
   "cell_type": "markdown",
   "metadata": {},
   "source": [
    "从上面的结果可以看出，资产标的和用户信息的userid数量是一致的"
   ]
  },
  {
   "cell_type": "code",
   "execution_count": 29,
   "metadata": {},
   "outputs": [
    {
     "data": {
      "text/html": [
       "<div>\n",
       "<style scoped>\n",
       "    .dataframe tbody tr th:only-of-type {\n",
       "        vertical-align: middle;\n",
       "    }\n",
       "\n",
       "    .dataframe tbody tr th {\n",
       "        vertical-align: top;\n",
       "    }\n",
       "\n",
       "    .dataframe thead th {\n",
       "        text-align: right;\n",
       "    }\n",
       "</style>\n",
       "<table border=\"1\" class=\"dataframe\">\n",
       "  <thead>\n",
       "    <tr style=\"text-align: right;\">\n",
       "      <th></th>\n",
       "      <th>user_id</th>\n",
       "      <th>reg_mon</th>\n",
       "      <th>gender</th>\n",
       "      <th>age</th>\n",
       "      <th>cell_province</th>\n",
       "      <th>id_province</th>\n",
       "      <th>id_city</th>\n",
       "      <th>insertdate</th>\n",
       "    </tr>\n",
       "  </thead>\n",
       "  <tbody>\n",
       "    <tr>\n",
       "      <th>229888</th>\n",
       "      <td>567844</td>\n",
       "      <td>2017-07</td>\n",
       "      <td>男</td>\n",
       "      <td>28</td>\n",
       "      <td>\\N</td>\n",
       "      <td>c12</td>\n",
       "      <td>c12088</td>\n",
       "      <td>2019-02-19</td>\n",
       "    </tr>\n",
       "    <tr>\n",
       "      <th>231091</th>\n",
       "      <td>567844</td>\n",
       "      <td>2017-07</td>\n",
       "      <td>男</td>\n",
       "      <td>27</td>\n",
       "      <td>c21</td>\n",
       "      <td>c12</td>\n",
       "      <td>c12088</td>\n",
       "      <td>2018-03-28</td>\n",
       "    </tr>\n",
       "    <tr>\n",
       "      <th>231366</th>\n",
       "      <td>567844</td>\n",
       "      <td>2017-07</td>\n",
       "      <td>男</td>\n",
       "      <td>27</td>\n",
       "      <td>\\N</td>\n",
       "      <td>c12</td>\n",
       "      <td>c12088</td>\n",
       "      <td>2018-11-17</td>\n",
       "    </tr>\n",
       "  </tbody>\n",
       "</table>\n",
       "</div>"
      ],
      "text/plain": [
       "        user_id  reg_mon gender  age cell_province id_province id_city  \\\n",
       "229888   567844  2017-07      男   28            \\N         c12  c12088   \n",
       "231091   567844  2017-07      男   27           c21         c12  c12088   \n",
       "231366   567844  2017-07      男   27            \\N         c12  c12088   \n",
       "\n",
       "        insertdate  \n",
       "229888  2019-02-19  \n",
       "231091  2018-03-28  \n",
       "231366  2018-11-17  "
      ]
     },
     "execution_count": 29,
     "metadata": {},
     "output_type": "execute_result"
    }
   ],
   "source": [
    "user_info_data[user_info_data['user_id'] == 567844]"
   ]
  },
  {
   "cell_type": "code",
   "execution_count": 76,
   "metadata": {
    "scrolled": true
   },
   "outputs": [
    {
     "name": "stdout",
     "output_type": "stream",
     "text": [
      "928195\n"
     ]
    },
    {
     "data": {
      "text/plain": [
       "712075    True\n",
       "491698    True\n",
       "35086     True\n",
       "539106    True\n",
       "531641    True\n",
       "Name: user_id, dtype: bool"
      ]
     },
     "execution_count": 76,
     "metadata": {},
     "output_type": "execute_result"
    }
   ],
   "source": [
    "print(len(listing_info_data['user_id'].value_counts()))\n",
    "(listing_info_data['user_id'].value_counts()>1).head()"
   ]
  },
  {
   "cell_type": "code",
   "execution_count": 78,
   "metadata": {},
   "outputs": [
    {
     "data": {
      "text/html": [
       "<div>\n",
       "<style scoped>\n",
       "    .dataframe tbody tr th:only-of-type {\n",
       "        vertical-align: middle;\n",
       "    }\n",
       "\n",
       "    .dataframe tbody tr th {\n",
       "        vertical-align: top;\n",
       "    }\n",
       "\n",
       "    .dataframe thead th {\n",
       "        text-align: right;\n",
       "    }\n",
       "</style>\n",
       "<table border=\"1\" class=\"dataframe\">\n",
       "  <thead>\n",
       "    <tr style=\"text-align: right;\">\n",
       "      <th></th>\n",
       "      <th>user_id</th>\n",
       "      <th>listing_id</th>\n",
       "      <th>auditing_date</th>\n",
       "      <th>term</th>\n",
       "      <th>rate</th>\n",
       "      <th>principal</th>\n",
       "    </tr>\n",
       "  </thead>\n",
       "  <tbody>\n",
       "    <tr>\n",
       "      <th>4947098</th>\n",
       "      <td>567844</td>\n",
       "      <td>519772</td>\n",
       "      <td>2017-07-05</td>\n",
       "      <td>3</td>\n",
       "      <td>8.0</td>\n",
       "      <td>11060</td>\n",
       "    </tr>\n",
       "    <tr>\n",
       "      <th>4610759</th>\n",
       "      <td>567844</td>\n",
       "      <td>946691</td>\n",
       "      <td>2017-09-10</td>\n",
       "      <td>3</td>\n",
       "      <td>8.0</td>\n",
       "      <td>1170</td>\n",
       "    </tr>\n",
       "    <tr>\n",
       "      <th>4580888</th>\n",
       "      <td>567844</td>\n",
       "      <td>985981</td>\n",
       "      <td>2017-09-16</td>\n",
       "      <td>3</td>\n",
       "      <td>8.0</td>\n",
       "      <td>850</td>\n",
       "    </tr>\n",
       "    <tr>\n",
       "      <th>4564242</th>\n",
       "      <td>567844</td>\n",
       "      <td>999710</td>\n",
       "      <td>2017-09-19</td>\n",
       "      <td>3</td>\n",
       "      <td>8.0</td>\n",
       "      <td>3350</td>\n",
       "    </tr>\n",
       "    <tr>\n",
       "      <th>4491955</th>\n",
       "      <td>567844</td>\n",
       "      <td>1104931</td>\n",
       "      <td>2017-10-04</td>\n",
       "      <td>3</td>\n",
       "      <td>8.0</td>\n",
       "      <td>3350</td>\n",
       "    </tr>\n",
       "    <tr>\n",
       "      <th>4371233</th>\n",
       "      <td>567844</td>\n",
       "      <td>1240062</td>\n",
       "      <td>2017-10-21</td>\n",
       "      <td>3</td>\n",
       "      <td>7.6</td>\n",
       "      <td>1170</td>\n",
       "    </tr>\n",
       "    <tr>\n",
       "      <th>4139956</th>\n",
       "      <td>567844</td>\n",
       "      <td>1445939</td>\n",
       "      <td>2017-11-13</td>\n",
       "      <td>3</td>\n",
       "      <td>7.6</td>\n",
       "      <td>1170</td>\n",
       "    </tr>\n",
       "    <tr>\n",
       "      <th>4112453</th>\n",
       "      <td>567844</td>\n",
       "      <td>1556322</td>\n",
       "      <td>2017-11-25</td>\n",
       "      <td>6</td>\n",
       "      <td>7.6</td>\n",
       "      <td>1170</td>\n",
       "    </tr>\n",
       "    <tr>\n",
       "      <th>4777676</th>\n",
       "      <td>567844</td>\n",
       "      <td>2260723</td>\n",
       "      <td>2018-02-09</td>\n",
       "      <td>6</td>\n",
       "      <td>8.0</td>\n",
       "      <td>2260</td>\n",
       "    </tr>\n",
       "    <tr>\n",
       "      <th>4734303</th>\n",
       "      <td>567844</td>\n",
       "      <td>2317558</td>\n",
       "      <td>2018-02-14</td>\n",
       "      <td>6</td>\n",
       "      <td>8.0</td>\n",
       "      <td>5540</td>\n",
       "    </tr>\n",
       "    <tr>\n",
       "      <th>4395426</th>\n",
       "      <td>567844</td>\n",
       "      <td>2775039</td>\n",
       "      <td>2018-03-26</td>\n",
       "      <td>6</td>\n",
       "      <td>8.0</td>\n",
       "      <td>630</td>\n",
       "    </tr>\n",
       "    <tr>\n",
       "      <th>4371402</th>\n",
       "      <td>567844</td>\n",
       "      <td>2819123</td>\n",
       "      <td>2018-03-29</td>\n",
       "      <td>6</td>\n",
       "      <td>8.0</td>\n",
       "      <td>1170</td>\n",
       "    </tr>\n",
       "    <tr>\n",
       "      <th>5182875</th>\n",
       "      <td>567844</td>\n",
       "      <td>3514218</td>\n",
       "      <td>2018-05-24</td>\n",
       "      <td>6</td>\n",
       "      <td>8.6</td>\n",
       "      <td>740</td>\n",
       "    </tr>\n",
       "    <tr>\n",
       "      <th>4939060</th>\n",
       "      <td>567844</td>\n",
       "      <td>3779006</td>\n",
       "      <td>2018-06-19</td>\n",
       "      <td>6</td>\n",
       "      <td>8.0</td>\n",
       "      <td>1170</td>\n",
       "    </tr>\n",
       "    <tr>\n",
       "      <th>4779662</th>\n",
       "      <td>567844</td>\n",
       "      <td>3995296</td>\n",
       "      <td>2018-07-14</td>\n",
       "      <td>12</td>\n",
       "      <td>8.6</td>\n",
       "      <td>2260</td>\n",
       "    </tr>\n",
       "    <tr>\n",
       "      <th>5443917</th>\n",
       "      <td>567844</td>\n",
       "      <td>4665569</td>\n",
       "      <td>2018-10-16</td>\n",
       "      <td>3</td>\n",
       "      <td>7.2</td>\n",
       "      <td>3350</td>\n",
       "    </tr>\n",
       "    <tr>\n",
       "      <th>5310407</th>\n",
       "      <td>567844</td>\n",
       "      <td>4792320</td>\n",
       "      <td>2018-10-30</td>\n",
       "      <td>3</td>\n",
       "      <td>7.2</td>\n",
       "      <td>1170</td>\n",
       "    </tr>\n",
       "    <tr>\n",
       "      <th>5213152</th>\n",
       "      <td>567844</td>\n",
       "      <td>4882823</td>\n",
       "      <td>2018-11-09</td>\n",
       "      <td>6</td>\n",
       "      <td>7.6</td>\n",
       "      <td>3350</td>\n",
       "    </tr>\n",
       "    <tr>\n",
       "      <th>5178357</th>\n",
       "      <td>567844</td>\n",
       "      <td>4914848</td>\n",
       "      <td>2018-11-14</td>\n",
       "      <td>6</td>\n",
       "      <td>7.6</td>\n",
       "      <td>3350</td>\n",
       "    </tr>\n",
       "    <tr>\n",
       "      <th>5159654</th>\n",
       "      <td>567844</td>\n",
       "      <td>4936163</td>\n",
       "      <td>2018-11-18</td>\n",
       "      <td>6</td>\n",
       "      <td>7.2</td>\n",
       "      <td>7450</td>\n",
       "    </tr>\n",
       "    <tr>\n",
       "      <th>4309786</th>\n",
       "      <td>567844</td>\n",
       "      <td>5135284</td>\n",
       "      <td>2018-12-16</td>\n",
       "      <td>6</td>\n",
       "      <td>6.9</td>\n",
       "      <td>2710</td>\n",
       "    </tr>\n",
       "    <tr>\n",
       "      <th>4260507</th>\n",
       "      <td>567844</td>\n",
       "      <td>5230711</td>\n",
       "      <td>2019-01-11</td>\n",
       "      <td>6</td>\n",
       "      <td>6.9</td>\n",
       "      <td>3150</td>\n",
       "    </tr>\n",
       "    <tr>\n",
       "      <th>4227224</th>\n",
       "      <td>567844</td>\n",
       "      <td>5319812</td>\n",
       "      <td>2019-02-11</td>\n",
       "      <td>6</td>\n",
       "      <td>6.9</td>\n",
       "      <td>6590</td>\n",
       "    </tr>\n",
       "    <tr>\n",
       "      <th>4220814</th>\n",
       "      <td>567844</td>\n",
       "      <td>5345429</td>\n",
       "      <td>2019-02-17</td>\n",
       "      <td>6</td>\n",
       "      <td>6.5</td>\n",
       "      <td>2260</td>\n",
       "    </tr>\n",
       "    <tr>\n",
       "      <th>4220436</th>\n",
       "      <td>567844</td>\n",
       "      <td>5346851</td>\n",
       "      <td>2019-02-18</td>\n",
       "      <td>6</td>\n",
       "      <td>6.5</td>\n",
       "      <td>4390</td>\n",
       "    </tr>\n",
       "    <tr>\n",
       "      <th>4220288</th>\n",
       "      <td>567844</td>\n",
       "      <td>5347428</td>\n",
       "      <td>2019-02-18</td>\n",
       "      <td>6</td>\n",
       "      <td>6.5</td>\n",
       "      <td>2260</td>\n",
       "    </tr>\n",
       "    <tr>\n",
       "      <th>4217775</th>\n",
       "      <td>567844</td>\n",
       "      <td>5357497</td>\n",
       "      <td>2019-02-20</td>\n",
       "      <td>3</td>\n",
       "      <td>6.5</td>\n",
       "      <td>2260</td>\n",
       "    </tr>\n",
       "  </tbody>\n",
       "</table>\n",
       "</div>"
      ],
      "text/plain": [
       "         user_id  listing_id auditing_date  term  rate  principal\n",
       "4947098   567844      519772    2017-07-05     3   8.0      11060\n",
       "4610759   567844      946691    2017-09-10     3   8.0       1170\n",
       "4580888   567844      985981    2017-09-16     3   8.0        850\n",
       "4564242   567844      999710    2017-09-19     3   8.0       3350\n",
       "4491955   567844     1104931    2017-10-04     3   8.0       3350\n",
       "4371233   567844     1240062    2017-10-21     3   7.6       1170\n",
       "4139956   567844     1445939    2017-11-13     3   7.6       1170\n",
       "4112453   567844     1556322    2017-11-25     6   7.6       1170\n",
       "4777676   567844     2260723    2018-02-09     6   8.0       2260\n",
       "4734303   567844     2317558    2018-02-14     6   8.0       5540\n",
       "4395426   567844     2775039    2018-03-26     6   8.0        630\n",
       "4371402   567844     2819123    2018-03-29     6   8.0       1170\n",
       "5182875   567844     3514218    2018-05-24     6   8.6        740\n",
       "4939060   567844     3779006    2018-06-19     6   8.0       1170\n",
       "4779662   567844     3995296    2018-07-14    12   8.6       2260\n",
       "5443917   567844     4665569    2018-10-16     3   7.2       3350\n",
       "5310407   567844     4792320    2018-10-30     3   7.2       1170\n",
       "5213152   567844     4882823    2018-11-09     6   7.6       3350\n",
       "5178357   567844     4914848    2018-11-14     6   7.6       3350\n",
       "5159654   567844     4936163    2018-11-18     6   7.2       7450\n",
       "4309786   567844     5135284    2018-12-16     6   6.9       2710\n",
       "4260507   567844     5230711    2019-01-11     6   6.9       3150\n",
       "4227224   567844     5319812    2019-02-11     6   6.9       6590\n",
       "4220814   567844     5345429    2019-02-17     6   6.5       2260\n",
       "4220436   567844     5346851    2019-02-18     6   6.5       4390\n",
       "4220288   567844     5347428    2019-02-18     6   6.5       2260\n",
       "4217775   567844     5357497    2019-02-20     3   6.5       2260"
      ]
     },
     "execution_count": 78,
     "metadata": {},
     "output_type": "execute_result"
    }
   ],
   "source": [
    "(listing_info_data[listing_info_data['user_id'] == 567844]).sort_values('auditing_date')"
   ]
  },
  {
   "cell_type": "code",
   "execution_count": null,
   "metadata": {
    "collapsed": true
   },
   "outputs": [],
   "source": [
    "listing_info_data[listing_info_data['user_id'] == 567844]"
   ]
  },
  {
   "cell_type": "code",
   "execution_count": 65,
   "metadata": {},
   "outputs": [],
   "source": [
    "train_userid_idx = train_data['user_id'].value_counts().index\n",
    "user_info_userid_idx = user_info_data['user_id'].value_counts().index\n",
    "user_taglist_userid_idx = user_taglist_data['user_id'].value_counts().index\n",
    "listing_info_data_userid_idx = listing_info_data['user_id'].value_counts().index\n",
    "# user_info_multiinsert_real = user_multiinsert_all.index[user_multiinsert == True]"
   ]
  },
  {
   "cell_type": "code",
   "execution_count": 57,
   "metadata": {},
   "outputs": [
    {
     "data": {
      "text/plain": [
       "True    823732\n",
       "dtype: int64"
      ]
     },
     "execution_count": 57,
     "metadata": {},
     "output_type": "execute_result"
    }
   ],
   "source": [
    "train_user_info_idx = train_userid_idx.isin(user_info_userid_idx)\n",
    "pd.Series(train_user_info_idx).value_counts()"
   ]
  },
  {
   "cell_type": "code",
   "execution_count": 58,
   "metadata": {},
   "outputs": [
    {
     "data": {
      "text/plain": [
       "True     823732\n",
       "False    104463\n",
       "dtype: int64"
      ]
     },
     "execution_count": 58,
     "metadata": {},
     "output_type": "execute_result"
    }
   ],
   "source": [
    "user_info_train_idx = user_info_userid_idx.isin(train_userid_idx)\n",
    "pd.Series(user_info_train_idx).value_counts()"
   ]
  },
  {
   "cell_type": "code",
   "execution_count": 59,
   "metadata": {},
   "outputs": [
    {
     "data": {
      "text/plain": [
       "True     471468\n",
       "False     63912\n",
       "dtype: int64"
      ]
     },
     "execution_count": 59,
     "metadata": {},
     "output_type": "execute_result"
    }
   ],
   "source": [
    "user_taglist_train_idx = user_taglist_userid_idx.isin(train_userid_idx)\n",
    "pd.Series(user_taglist_train_idx).value_counts()"
   ]
  },
  {
   "cell_type": "code",
   "execution_count": 60,
   "metadata": {},
   "outputs": [
    {
     "data": {
      "text/plain": [
       "True    535380\n",
       "dtype: int64"
      ]
     },
     "execution_count": 60,
     "metadata": {},
     "output_type": "execute_result"
    }
   ],
   "source": [
    "user_taglist_user_info_idx = user_taglist_userid_idx.isin(user_info_userid_idx)\n",
    "pd.Series(user_taglist_user_info_idx).value_counts()"
   ]
  },
  {
   "cell_type": "code",
   "execution_count": 67,
   "metadata": {},
   "outputs": [
    {
     "data": {
      "text/plain": [
       "False    928195\n",
       "dtype: int64"
      ]
     },
     "execution_count": 67,
     "metadata": {},
     "output_type": "execute_result"
    }
   ],
   "source": [
    "listing_info_user_info_idx = listing_info_data_userid_idx.isin(user_info_data)\n",
    "pd.Series(listing_info_user_info_idx).value_counts()"
   ]
  },
  {
   "cell_type": "code",
   "execution_count": null,
   "metadata": {
    "collapsed": true
   },
   "outputs": [],
   "source": []
  }
 ],
 "metadata": {
  "kernelspec": {
   "display_name": "Python 3",
   "language": "python",
   "name": "python3"
  },
  "language_info": {
   "codemirror_mode": {
    "name": "ipython",
    "version": 3
   },
   "file_extension": ".py",
   "mimetype": "text/x-python",
   "name": "python",
   "nbconvert_exporter": "python",
   "pygments_lexer": "ipython3",
   "version": "3.6.3"
  }
 },
 "nbformat": 4,
 "nbformat_minor": 2
}
