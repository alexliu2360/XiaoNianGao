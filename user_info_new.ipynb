{
 "cells": [
  {
   "cell_type": "code",
   "execution_count": null,
   "metadata": {},
   "outputs": [],
   "source": [
    "import pandas as pd\n",
    "import numpy as np\n",
    "%matplotlib inline"
   ]
  },
  {
   "cell_type": "code",
   "execution_count": null,
   "metadata": {},
   "outputs": [],
   "source": [
    "data_path = '../data/'\n",
    "listing_info_fn = 'listing_info.csv'\n",
    "test_fn = 'test.csv'\n",
    "train_fn = 'train.csv'\n",
    "user_behavior_logs_fn = 'user_behavior_logs.csv'\n",
    "user_info_fn = 'user_info.csv'\n",
    "user_repay_logs_fn  = 'user_repay_logs.csv'\n",
    "user_taglist_fn = 'user_taglist.csv'\n",
    "\n",
    "preprocess_listing_info_fn = 'preprocess_listing_info.csv'\n",
    "preprocess_test_fn = 'preprocess_test.csv'\n",
    "preprocess_train_fn = 'preprocess_train.csv'\n",
    "preprocess_user_behavior_logs_fn = 'preprocess_user_behavior_logs.csv'\n",
    "preprocess_user_info_fn = 'preprocess_user_info.csv'\n",
    "preprocess_user_repay_logs_fn  = 'preprocess_user_repay_logs.csv'\n",
    "preprocess_user_taglist_fn = 'preprocess_user_taglist.csv'\n",
    "\n",
    "preprocess_train_data_listing_info_fn = 'preprocess_train_data_listing_info.csv'\n",
    "preprocess_user_info_new_fn = 'preprocess_user_info_new.csv'"
   ]
  },
  {
   "cell_type": "code",
   "execution_count": null,
   "metadata": {},
   "outputs": [],
   "source": [
    "user_info = pd.read_csv(data_path+preprocess_user_info_fn)\n",
    "user_info.drop(['Unnamed: 0'], axis=1,inplace=True)\n",
    "user_info_copy = user_info.copy(deep=True)\n",
    "user_info_copy.head()"
   ]
  },
  {
   "cell_type": "code",
   "execution_count": null,
   "metadata": {},
   "outputs": [],
   "source": [
    "handled_index_list = []\n",
    "join_serise_list = []\n",
    "count = 0\n",
    "join_index = ['index', 'insertdata_first', 'insertdata_last', 'insertdata_times']\n",
    "join_serise = pd.Series(index=join_index)\n",
    "for idx, row in user_info.iterrows():\n",
    "    count += 1\n",
    "    if count%1000 == 0:\n",
    "        print(count)\n",
    "    temp_user = user_info_copy.loc[user_info_copy['user_id'] == row['user_id']]\n",
    "    temp_user_insterdata_times = len(temp_user)\n",
    "    if temp_user_insterdata_times == 0:\n",
    "        print('error')\n",
    "        break\n",
    "    if idx in handled_index_list:\n",
    "        continue\n",
    "    if temp_user_insterdata_times == 1:   \n",
    "        temp_series = pd.Series([idx, temp_user['insert_ts'].values[0], temp_user['insert_ts'].values[0], 1], index=join_index)\n",
    "        join_serise_list.append(temp_series)\n",
    "    else:\n",
    "        handled_index_list.append(idx)\n",
    "        temp_user_ts = temp_user['insert_ts']\n",
    "        temp_user_ts_max = temp_user_ts.max()\n",
    "        temp_user_ts_min = temp_user_ts.min()\n",
    "        temp_user_ts_dict = {v:k for k, v in temp_user_ts.to_dict().items()}\n",
    "        temp_user_ts_max_idx = temp_user_ts_dict[temp_user_ts_max]\n",
    "        temp_user_index_list = temp_user.index.to_list()\n",
    "        temp_user_index_list.remove(temp_user_ts_max_idx)\n",
    "        user_info_copy.drop(index=temp_user_index_list, axis=0, inplace=True)\n",
    "        temp_series = pd.Series([temp_user_ts_max_idx, temp_user_ts_min, temp_user_ts_max, temp_user_insterdata_times], index=join_index)\n",
    "        join_serise_list.append(temp_series)\n",
    "        handled_index_list.extend(temp_user.index.values.tolist())\n",
    "#         break\n",
    "\n",
    "join_serise = pd.concat(join_serise_list, axis=1)\n",
    "join_serise.head()"
   ]
  },
  {
   "cell_type": "code",
   "execution_count": null,
   "metadata": {},
   "outputs": [],
   "source": [
    "join_serise = join_serise.T\n",
    "print(join_serise.shape)\n",
    "join_serise.head()"
   ]
  },
  {
   "cell_type": "code",
   "execution_count": null,
   "metadata": {},
   "outputs": [],
   "source": [
    "join_serise.to_csv(data_path+'preprocess_join_serise.csv', index=False, encoding='utf-8')"
   ]
  },
  {
   "cell_type": "code",
   "execution_count": null,
   "metadata": {},
   "outputs": [],
   "source": [
    "join_serise.set_index(['index'], inplace=True)\n",
    "join_serise.head()"
   ]
  },
  {
   "cell_type": "code",
   "execution_count": null,
   "metadata": {},
   "outputs": [],
   "source": [
    "join_serise.drop(index=0, inplace=True)\n",
    "join_serise['index'] = join_serise['index'].astype(dtype='int64',copy=False)\n",
    "join_serise.set_index(['index'], inplace=True)"
   ]
  },
  {
   "cell_type": "code",
   "execution_count": null,
   "metadata": {
    "scrolled": true
   },
   "outputs": [],
   "source": [
    "user_info_copy_new = pd.merge(user_info_copy, join_serise, left_index=True, right_index=True)"
   ]
  },
  {
   "cell_type": "code",
   "execution_count": null,
   "metadata": {},
   "outputs": [],
   "source": [
    "user_info_copy_new.drop(['insertdate', 'insert_ts'], axis=1,inplace=True)\n",
    "user_info_copy_new.head()"
   ]
  },
  {
   "cell_type": "code",
   "execution_count": null,
   "metadata": {},
   "outputs": [],
   "source": [
    "user_info_copy_new.to_csv(data_path+preprocess_user_info_new_fn, index=False, encoding='utf-8')"
   ]
  }
 ],
 "metadata": {
  "kernelspec": {
   "display_name": "Python 3",
   "language": "python",
   "name": "python3"
  },
  "language_info": {
   "codemirror_mode": {
    "name": "ipython",
    "version": 3
   },
   "file_extension": ".py",
   "mimetype": "text/x-python",
   "name": "python",
   "nbconvert_exporter": "python",
   "pygments_lexer": "ipython3",
   "version": "3.7.3"
  }
 },
 "nbformat": 4,
 "nbformat_minor": 2
}
